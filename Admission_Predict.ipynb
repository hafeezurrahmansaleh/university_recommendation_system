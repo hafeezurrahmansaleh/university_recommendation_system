{
 "cells": [
  {
   "cell_type": "code",
   "execution_count": 24,
   "metadata": {},
   "outputs": [],
   "source": [
    "import os\n",
    "import sys\n",
    "import copy\n",
    "import time\n",
    "import random\n",
    "from statistics import mean\n",
    "import numpy as np\n",
    "import pandas as pd\n",
    "from sklearn import preprocessing\n",
    "from sklearn.model_selection import train_test_split\n",
    "from sklearn.ensemble import RandomForestRegressor\n",
    "from sklearn.tree import DecisionTreeRegressor\n",
    "from sklearn.metrics import mean_squared_error\n",
    "from sklearn.neighbors import KNeighborsRegressor\n",
    "import matplotlib.pyplot as plt\n",
    "import seaborn as sns\n",
    "from sklearn.linear_model import LinearRegression\n",
    "from sklearn.metrics import r2_score\n",
    "from sklearn.neural_network import MLPRegressor\n"
   ]
  },
  {
   "cell_type": "code",
   "execution_count": 25,
   "metadata": {},
   "outputs": [],
   "source": [
    "\n",
    "def get_plt_params():\n",
    "    params = {'legend.fontsize': 'x-large',\n",
    "              'figure.figsize' : (18, 8),\n",
    "              'axes.labelsize' : 'x-large',\n",
    "              'axes.titlesize' : 'x-large',\n",
    "              'xtick.labelsize': 'x-large',\n",
    "              'ytick.labelsize': 'x-large',\n",
    "              'font.size'      :  10}\n",
    "    return params\n"
   ]
  },
  {
   "cell_type": "code",
   "execution_count": 26,
   "metadata": {},
   "outputs": [
    {
     "data": {
      "text/plain": [
       "(500, 9)"
      ]
     },
     "execution_count": 26,
     "metadata": {},
     "output_type": "execute_result"
    }
   ],
   "source": [
    "columns = ['GRE Score', 'TOEFL Score', 'University Rating', 'SOP', 'LOR ', 'CGPA', 'Research']\n",
    "target = 'Chance of Admit'\n",
    "\n",
    "df = pd.read_csv('csv_data/Admission_Predict_Ver1.1.csv')\n",
    "df.shape"
   ]
  },
  {
   "cell_type": "code",
   "execution_count": 15,
   "metadata": {},
   "outputs": [
    {
     "data": {
      "text/html": [
       "<div>\n",
       "<style scoped>\n",
       "    .dataframe tbody tr th:only-of-type {\n",
       "        vertical-align: middle;\n",
       "    }\n",
       "\n",
       "    .dataframe tbody tr th {\n",
       "        vertical-align: top;\n",
       "    }\n",
       "\n",
       "    .dataframe thead th {\n",
       "        text-align: right;\n",
       "    }\n",
       "</style>\n",
       "<table border=\"1\" class=\"dataframe\">\n",
       "  <thead>\n",
       "    <tr style=\"text-align: right;\">\n",
       "      <th></th>\n",
       "      <th>Serial No.</th>\n",
       "      <th>GRE Score</th>\n",
       "      <th>TOEFL Score</th>\n",
       "      <th>University Rating</th>\n",
       "      <th>SOP</th>\n",
       "      <th>LOR</th>\n",
       "      <th>CGPA</th>\n",
       "      <th>Research</th>\n",
       "      <th>Chance of Admit</th>\n",
       "    </tr>\n",
       "  </thead>\n",
       "  <tbody>\n",
       "    <tr>\n",
       "      <th>0</th>\n",
       "      <td>1</td>\n",
       "      <td>0.94</td>\n",
       "      <td>0.928571</td>\n",
       "      <td>0.75</td>\n",
       "      <td>0.875</td>\n",
       "      <td>0.875</td>\n",
       "      <td>0.913462</td>\n",
       "      <td>1.0</td>\n",
       "      <td>0.92</td>\n",
       "    </tr>\n",
       "    <tr>\n",
       "      <th>1</th>\n",
       "      <td>2</td>\n",
       "      <td>0.68</td>\n",
       "      <td>0.535714</td>\n",
       "      <td>0.75</td>\n",
       "      <td>0.750</td>\n",
       "      <td>0.875</td>\n",
       "      <td>0.663462</td>\n",
       "      <td>1.0</td>\n",
       "      <td>0.76</td>\n",
       "    </tr>\n",
       "    <tr>\n",
       "      <th>2</th>\n",
       "      <td>3</td>\n",
       "      <td>0.52</td>\n",
       "      <td>0.428571</td>\n",
       "      <td>0.50</td>\n",
       "      <td>0.500</td>\n",
       "      <td>0.625</td>\n",
       "      <td>0.384615</td>\n",
       "      <td>1.0</td>\n",
       "      <td>0.72</td>\n",
       "    </tr>\n",
       "    <tr>\n",
       "      <th>3</th>\n",
       "      <td>4</td>\n",
       "      <td>0.64</td>\n",
       "      <td>0.642857</td>\n",
       "      <td>0.50</td>\n",
       "      <td>0.625</td>\n",
       "      <td>0.375</td>\n",
       "      <td>0.599359</td>\n",
       "      <td>1.0</td>\n",
       "      <td>0.80</td>\n",
       "    </tr>\n",
       "    <tr>\n",
       "      <th>4</th>\n",
       "      <td>5</td>\n",
       "      <td>0.48</td>\n",
       "      <td>0.392857</td>\n",
       "      <td>0.25</td>\n",
       "      <td>0.250</td>\n",
       "      <td>0.500</td>\n",
       "      <td>0.451923</td>\n",
       "      <td>0.0</td>\n",
       "      <td>0.65</td>\n",
       "    </tr>\n",
       "  </tbody>\n",
       "</table>\n",
       "</div>"
      ],
      "text/plain": [
       "   Serial No.  GRE Score  TOEFL Score  University Rating    SOP   LOR   \\\n",
       "0           1       0.94     0.928571               0.75  0.875  0.875   \n",
       "1           2       0.68     0.535714               0.75  0.750  0.875   \n",
       "2           3       0.52     0.428571               0.50  0.500  0.625   \n",
       "3           4       0.64     0.642857               0.50  0.625  0.375   \n",
       "4           5       0.48     0.392857               0.25  0.250  0.500   \n",
       "\n",
       "       CGPA  Research  Chance of Admit  \n",
       "0  0.913462       1.0             0.92  \n",
       "1  0.663462       1.0             0.76  \n",
       "2  0.384615       1.0             0.72  \n",
       "3  0.599359       1.0             0.80  \n",
       "4  0.451923       0.0             0.65  "
      ]
     },
     "execution_count": 15,
     "metadata": {},
     "output_type": "execute_result"
    }
   ],
   "source": [
    "\n",
    "minmax_scaler=preprocessing.MinMaxScaler()\n",
    "minmax_scaler_fit=minmax_scaler.fit(df[['GRE Score','TOEFL Score','University Rating','CGPA','SOP','LOR ','Research']])\n",
    "NormalizedGREScoreAndTOEFLScore=minmax_scaler_fit.transform(df[['GRE Score','TOEFL Score','University Rating','CGPA','SOP','LOR ','Research']])\n",
    "data=pd.DataFrame(NormalizedGREScoreAndTOEFLScore,columns=['GRE Score','TOEFL Score','University Rating','CGPA','SOP','LOR ','Research'])\n",
    "df['GRE Score']=data['GRE Score']\n",
    "df['TOEFL Score']=data['TOEFL Score']\n",
    "\n",
    "df['CGPA']=data['CGPA']\n",
    "df['University Rating']=data['University Rating']\n",
    "df['SOP']=data['SOP']\n",
    "df['LOR ']=data['LOR ']\n",
    "df['Research']=data['Research']\n",
    "\n",
    "\n",
    "predictorColumns=list(df.columns)\n",
    "predictorColumns.remove('Serial No.')\n",
    "predictorColumns.remove('Chance of Admit')\n",
    "df.head()\n"
   ]
  },
  {
   "cell_type": "code",
   "execution_count": 16,
   "metadata": {},
   "outputs": [],
   "source": [
    "\n",
    "X=df[predictorColumns].values\n",
    "y=df['Chance of Admit'].values\n",
    "X_train,X_test,y_train,y_test=train_test_split(X,y,test_size=0.2,random_state=36)\n",
    "\n"
   ]
  },
  {
   "cell_type": "code",
   "execution_count": 16,
   "metadata": {},
   "outputs": [],
   "source": []
  },
  {
   "cell_type": "code",
   "execution_count": 27,
   "metadata": {},
   "outputs": [
    {
     "name": "stdout",
     "output_type": "stream",
     "text": [
      "test : 0.7998815171870798\n",
      "trainging : 0.8431336860551952\n"
     ]
    }
   ],
   "source": [
    "\n",
    "#Deceision tree\n",
    "model=DecisionTreeRegressor(random_state=36,max_depth=100,min_samples_leaf=10)\n",
    "model.fit(X_train,y_train)\n",
    "PreAdmitDT=model.predict(X_test)\n",
    "AdmitData=pd.DataFrame(X_test,columns=predictorColumns)\n",
    "AdmitData['ChanceOfAdmit']=y_test\n",
    "AdmitData['PredictedChancesOfAdmit']=PreAdmitDT\n",
    "rmseDT=np.sqrt(mean_squared_error(y_test,PreAdmitDT))\n",
    "accuracyDT=r2_score(y_test,PreAdmitDT)\n",
    "PreAdmitDT2=model.predict(X_train)\n",
    "accuracyDT2=r2_score(y_train,PreAdmitDT2)\n",
    "print(\"test : \"+str(accuracyDT))\n",
    "print(\"trainging : \"+str(accuracyDT2))\n"
   ]
  },
  {
   "cell_type": "code",
   "execution_count": 28,
   "metadata": {},
   "outputs": [
    {
     "name": "stdout",
     "output_type": "stream",
     "text": [
      "test : 0.8074238782868035\n",
      "training : 0.8059755315227983\n"
     ]
    }
   ],
   "source": [
    "\n",
    "#KNN\n",
    "model=KNeighborsRegressor(n_neighbors=9,metric='euclidean')\n",
    "model.fit(X_train,y_train)\n",
    "PreAdmitKNN=model.predict(X_test)\n",
    "AdmitData=pd.DataFrame(X_test,columns=predictorColumns)\n",
    "AdmitData['ChanceOfAdmit']=y_test\n",
    "AdmitData['PredictedChancesOfAdmit']=PreAdmitKNN\n",
    "rmseKNN=np.sqrt(mean_squared_error(y_test,PreAdmitKNN))\n",
    "accuracyKNN=r2_score(y_test,PreAdmitKNN)\n",
    "PreAdmitKNN2=model.predict(X_train)\n",
    "accuracyKNN2=r2_score(y_train,PreAdmitKNN2)\n",
    "print(\"test : \"+str(accuracyKNN))\n",
    "print(\"training : \"+str(accuracyKNN2))\n",
    "\n",
    "\n",
    "\n",
    "# test_in = [[.22, .9285, .75, .875, .875, .899359,1]]\n",
    "# result_knn=model.predict(test_in)\n",
    "# print(result_knn*100)"
   ]
  },
  {
   "cell_type": "code",
   "execution_count": 29,
   "metadata": {},
   "outputs": [
    {
     "name": "stdout",
     "output_type": "stream",
     "text": [
      "test : 0.779403235345522\n",
      "training : 0.7757207208528735\n"
     ]
    }
   ],
   "source": [
    "\n",
    "#Nerual Network\n",
    "model=MLPRegressor(hidden_layer_sizes=50,random_state=10)\n",
    "model.fit(X_train,y_train)\n",
    "PreAdmitNN=model.predict(X_test)\n",
    "AdmitData=pd.DataFrame(X_test,columns=predictorColumns)\n",
    "AdmitData['ChanceOfAdmit']=y_test\n",
    "AdmitData['PredictedChancesOfAdmit']=PreAdmitNN\n",
    "rmseNN=np.sqrt(mean_squared_error(y_test,PreAdmitNN))\n",
    "accuracyNN=r2_score(y_test,PreAdmitNN)\n",
    "PreAdmitNN2=model.predict(X_train)\n",
    "accuracyNN2=r2_score(y_train,PreAdmitNN2)\n",
    "print(\"test : \"+str(accuracyNN))\n",
    "print(\"training : \"+str(accuracyNN2))\n",
    "\n"
   ]
  },
  {
   "cell_type": "code",
   "execution_count": 20,
   "metadata": {},
   "outputs": [
    {
     "data": {
      "image/png": "[encoded data removed]",
      "text/plain": [
       "<Figure size 432x288 with 1 Axes>"
      ]
     },
     "metadata": {
      "needs_background": "light"
     },
     "output_type": "display_data"
    }
   ],
   "source": [
    "\n",
    "y = np.array([rmseKNN,rmseNN,rmseDT])\n",
    "x = [\"KNN\",\"Neural Network\",\"Deceision tree\"]\n",
    "plt.bar(x,y)\n",
    "plt.title(\"Comparison of Regression Algorithms\")\n",
    "plt.xlabel(\"Regressor\")\n",
    "plt.ylabel(\"rmse\")\n",
    "plt.show()\n",
    "\n"
   ]
  },
  {
   "cell_type": "code",
   "execution_count": 30,
   "metadata": {},
   "outputs": [
    {
     "data": {
      "image/png": "[encoded data removed]",
      "text/plain": [
       "<Figure size 432x288 with 1 Axes>"
      ]
     },
     "metadata": {
      "needs_background": "light"
     },
     "output_type": "display_data"
    }
   ],
   "source": [
    "\n",
    "y = np.array([accuracyKNN,accuracyNN,accuracyDT])\n",
    "x = [\"KNN\",\"Neural Network\",\"Deceision tree\"]\n",
    "plt.bar(x,y)\n",
    "plt.title(\"Comparison of Regression Algorithms\")\n",
    "plt.xlabel(\"Regressor\")\n",
    "plt.ylabel(\"r2_score\")\n",
    "plt.show()\n"
   ]
  },
  {
   "cell_type": "code",
   "execution_count": 31,
   "metadata": {
    "pycharm": {
     "is_executing": true
    }
   },
   "outputs": [
    {
     "data": {
      "image/png": "[encoded data removed]",
      "text/plain": [
       "<Figure size 432x288 with 1 Axes>"
      ]
     },
     "metadata": {
      "needs_background": "light"
     },
     "output_type": "display_data"
    }
   ],
   "source": [
    "\n",
    "\n",
    "blue = plt.scatter(np.arange(0, 100, 5),PreAdmitDT[0:150:5],color = \"blue\")\n",
    "black = plt.scatter(np.arange(0, 100, 5),PreAdmitKNN[0:150:5],color = \"black\")\n",
    "yellow = plt.scatter(np.arange(0, 100, 5),PreAdmitNN[0:150:5],color = \"yellow\")\n",
    "pink = plt.scatter(np.arange(0, 100, 5),y_test[0:150:5],color = \"pink\")\n",
    "plt.title(\"Comparison of Regression Algorithms\")\n",
    "plt.xlabel(\"Index of Candidate\")\n",
    "plt.ylabel(\"Chance of Admit\")\n",
    "plt.legend((blue,black,yellow,pink),( 'DT', 'KNN','NN','Actual'))\n",
    "plt.show()\n"
   ]
  },
  {
   "cell_type": "code",
   "execution_count": null,
   "metadata": {
    "pycharm": {
     "is_executing": true
    }
   },
   "outputs": [],
   "source": []
  }
 ],
 "metadata": {
  "kernelspec": {
   "display_name": "Python 3",
   "language": "python",
   "name": "python3"
  },
  "language_info": {
   "codemirror_mode": {
    "name": "ipython",
    "version": 3
   },
   "file_extension": ".py",
   "mimetype": "text/x-python",
   "name": "python",
   "nbconvert_exporter": "python",
   "pygments_lexer": "ipython3",
   "version": "3.8.5"
  }
 },
 "nbformat": 4,
 "nbformat_minor": 1
}